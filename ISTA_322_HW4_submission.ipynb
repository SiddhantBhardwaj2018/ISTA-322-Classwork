{
  "nbformat": 4,
  "nbformat_minor": 0,
  "metadata": {
    "colab": {
      "name": "ISTA_322_HW4_submission.ipynb",
      "provenance": []
    },
    "kernelspec": {
      "name": "python3",
      "display_name": "Python 3"
    }
  },
  "cells": [
    {
      "cell_type": "markdown",
      "metadata": {
        "id": "PIVONmeB6R-W"
      },
      "source": [
        "# HW 4 - Building a normalized RDB\n",
        " \n",
        "The goal of this homework is to take a semi-structured non-normalized CSV file and turn it into a set of normalized tables that you then push to your postgres database on AWS.  \n",
        " \n",
        "The original dataset contains 100k district court decisions, although I've downsampled it to only 1000 rows to make the uploads faster.  Each row contains info about a judge, their demographics, party affiliation, etc.  Rows also contain information about the case they were deciding on.  Was it a criminal or civil case?  What year was it?  Was the direction of the decision liberal or conservative?  \n",
        " \n",
        "While the current denormalized format is fine for analysis, it's not fine for a database as it violates many normalization rules. Your goal is to normalize it by designing a simple schema, then wrangling it into the proper dataframes, then pushing it all to AWS.  \n",
        " \n",
        "For the first part of this assignment you should wind up with three tables.  One with case information, one with judge information, one that has casetype information, and the last with case category information.  Each table should be reduced so that there are not then repeating rows, and primary keys should be assigned within each.  These tables should be called 'cases', 'judges', and 'casetype'.\n",
        " \n",
        "For the last part you should make a rollup table that calculates the percent of liberal decisions for each party level and each case category.  This will allow for one to get a quick look at how the political party affiliation of judges impacts the direction of a decision for different case categories (e.g. criminal, civil, labor). "
      ]
    },
    {
      "cell_type": "markdown",
      "metadata": {
        "id": "_jWNnlFk-vrU"
      },
      "source": [
        "## Bring in data, explore, make schema\n",
        "\n",
        "Start by bringing in your data to `cases`. Call a `.head()` on it to see what columns are there and what they contain."
      ]
    },
    {
      "cell_type": "code",
      "metadata": {
        "id": "GlsBOmibKzFV"
      },
      "source": [
        "import pandas as pd\n",
        "cases = pd.read_csv('https://ista322data.s3-us-west-1.amazonaws.com/cases_denorm_small.csv')"
      ],
      "execution_count": null,
      "outputs": []
    },
    {
      "cell_type": "code",
      "metadata": {
        "id": "UQS-dq--K31L",
        "outputId": "bf58a014-c734-468b-a0bd-db1deb0626f9",
        "colab": {
          "base_uri": "https://localhost:8080/",
          "height": 343
        }
      },
      "source": [
        "# head of cases\n",
        "cases.head()"
      ],
      "execution_count": null,
      "outputs": [
        {
          "output_type": "execute_result",
          "data": {
            "text/html": [
              "<div>\n",
              "<style scoped>\n",
              "    .dataframe tbody tr th:only-of-type {\n",
              "        vertical-align: middle;\n",
              "    }\n",
              "\n",
              "    .dataframe tbody tr th {\n",
              "        vertical-align: top;\n",
              "    }\n",
              "\n",
              "    .dataframe thead th {\n",
              "        text-align: right;\n",
              "    }\n",
              "</style>\n",
              "<table border=\"1\" class=\"dataframe\">\n",
              "  <thead>\n",
              "    <tr style=\"text-align: right;\">\n",
              "      <th></th>\n",
              "      <th>judge_name</th>\n",
              "      <th>party_name</th>\n",
              "      <th>gender_name</th>\n",
              "      <th>race_name</th>\n",
              "      <th>case_id</th>\n",
              "      <th>case_year</th>\n",
              "      <th>casetype_id</th>\n",
              "      <th>casetype_name</th>\n",
              "      <th>category_id</th>\n",
              "      <th>category_name</th>\n",
              "      <th>libcon_id</th>\n",
              "      <th>libcon_name</th>\n",
              "    </tr>\n",
              "  </thead>\n",
              "  <tbody>\n",
              "    <tr>\n",
              "      <th>0</th>\n",
              "      <td>Thompson, Myron H.</td>\n",
              "      <td>Democrat</td>\n",
              "      <td>male</td>\n",
              "      <td>African-American/black</td>\n",
              "      <td>28321332</td>\n",
              "      <td>2011</td>\n",
              "      <td>3</td>\n",
              "      <td>criminal court motions</td>\n",
              "      <td>1</td>\n",
              "      <td>Criminal Justice Cases</td>\n",
              "      <td>0</td>\n",
              "      <td>Conservative</td>\n",
              "    </tr>\n",
              "    <tr>\n",
              "      <th>1</th>\n",
              "      <td>Shoob, Marvin A.</td>\n",
              "      <td>Democrat</td>\n",
              "      <td>male</td>\n",
              "      <td>white/caucasian</td>\n",
              "      <td>18110669</td>\n",
              "      <td>1993</td>\n",
              "      <td>14</td>\n",
              "      <td>free of religion</td>\n",
              "      <td>2</td>\n",
              "      <td>Civil Liberties/Rights Cases</td>\n",
              "      <td>1</td>\n",
              "      <td>Liberal</td>\n",
              "    </tr>\n",
              "    <tr>\n",
              "      <th>2</th>\n",
              "      <td>Bua, Nicholas J.</td>\n",
              "      <td>Democrat</td>\n",
              "      <td>male</td>\n",
              "      <td>white/caucasian</td>\n",
              "      <td>15660871</td>\n",
              "      <td>1983</td>\n",
              "      <td>2</td>\n",
              "      <td>habeas corpus-state</td>\n",
              "      <td>1</td>\n",
              "      <td>Criminal Justice Cases</td>\n",
              "      <td>0</td>\n",
              "      <td>Conservative</td>\n",
              "    </tr>\n",
              "    <tr>\n",
              "      <th>3</th>\n",
              "      <td>Kovachevich, Elizabeth</td>\n",
              "      <td>Republican</td>\n",
              "      <td>female</td>\n",
              "      <td>white/caucasian</td>\n",
              "      <td>17770934</td>\n",
              "      <td>1991</td>\n",
              "      <td>2</td>\n",
              "      <td>habeas corpus-state</td>\n",
              "      <td>1</td>\n",
              "      <td>Criminal Justice Cases</td>\n",
              "      <td>0</td>\n",
              "      <td>Conservative</td>\n",
              "    </tr>\n",
              "    <tr>\n",
              "      <th>4</th>\n",
              "      <td>Gilliam, Earl B.</td>\n",
              "      <td>Independent/Other/Unknown</td>\n",
              "      <td>male</td>\n",
              "      <td>white/caucasian</td>\n",
              "      <td>26621195</td>\n",
              "      <td>2009</td>\n",
              "      <td>6</td>\n",
              "      <td>alien petitions</td>\n",
              "      <td>2</td>\n",
              "      <td>Civil Liberties/Rights Cases</td>\n",
              "      <td>0</td>\n",
              "      <td>Conservative</td>\n",
              "    </tr>\n",
              "  </tbody>\n",
              "</table>\n",
              "</div>"
            ],
            "text/plain": [
              "               judge_name                 party_name  ... libcon_id   libcon_name\n",
              "0      Thompson, Myron H.                   Democrat  ...         0  Conservative\n",
              "1        Shoob, Marvin A.                   Democrat  ...         1       Liberal\n",
              "2        Bua, Nicholas J.                   Democrat  ...         0  Conservative\n",
              "3  Kovachevich, Elizabeth                 Republican  ...         0  Conservative\n",
              "4        Gilliam, Earl B.  Independent/Other/Unknown  ...         0  Conservative\n",
              "\n",
              "[5 rows x 12 columns]"
            ]
          },
          "metadata": {
            "tags": []
          },
          "execution_count": 17
        }
      ]
    },
    {
      "cell_type": "markdown",
      "metadata": {
        "id": "ZxZrpJn7AoBV"
      },
      "source": [
        "### Make schema\n",
        " \n",
        "OK, given that head, you need to make three related tables that will make up a normalized database.  Those tables are 'cases', 'judges', and 'casetype'.  If it's not clear what info should go into each, explore the data more, ask on slack, etc.  \n",
        " \n",
        "Remember, you might not have keys, will need to reduce the rows, select certain columns, etc.  There isn't a defined path here.  "
      ]
    },
    {
      "cell_type": "markdown",
      "metadata": {
        "id": "bzg_7a6iPx2_"
      },
      "source": [
        "Here's a textbox to define what should be in your schema... feel free to add to \n",
        "\n",
        "---\n",
        "\n",
        "this. \n",
        "\n",
        "Schema of the 3 different tables.\n",
        "\n"
      ]
    },
    {
      "cell_type": "markdown",
      "metadata": {
        "id": "owGhO5VuA-Tw"
      },
      "source": [
        "## Make cases table - 3 points\n",
        "\n",
        "Start by making a table that contains just each case's info.  I would call this table that you're going to upload `cases_df` so you don't overwrite your raw data.  \n",
        "\n",
        "This table should have six columns and 1000 rows.  \n",
        "\n",
        "Note, one of these columns should be a judge_id that links to the judges table. You'll need to make this foreign key.  \n",
        "\n",
        "Also, you can leave 'category_name' in this table as well as its id.  Normally you'd split that off into it's own table as well, but you're already doing that for casetype which is enough for now.  "
      ]
    },
    {
      "cell_type": "code",
      "metadata": {
        "id": "Uf_ovFQYPCKO",
        "outputId": "251a7eeb-d03d-4a6d-83bf-642bdf3f3cc8",
        "colab": {
          "base_uri": "https://localhost:8080/",
          "height": 728
        }
      },
      "source": [
        "# Make judge_id in cases\n",
        "cases['judge_id'] = pd.factorize(cases['judge_name'])[0].astype(str)\n",
        "cases"
      ],
      "execution_count": null,
      "outputs": [
        {
          "output_type": "execute_result",
          "data": {
            "text/html": [
              "<div>\n",
              "<style scoped>\n",
              "    .dataframe tbody tr th:only-of-type {\n",
              "        vertical-align: middle;\n",
              "    }\n",
              "\n",
              "    .dataframe tbody tr th {\n",
              "        vertical-align: top;\n",
              "    }\n",
              "\n",
              "    .dataframe thead th {\n",
              "        text-align: right;\n",
              "    }\n",
              "</style>\n",
              "<table border=\"1\" class=\"dataframe\">\n",
              "  <thead>\n",
              "    <tr style=\"text-align: right;\">\n",
              "      <th></th>\n",
              "      <th>judge_name</th>\n",
              "      <th>party_name</th>\n",
              "      <th>gender_name</th>\n",
              "      <th>race_name</th>\n",
              "      <th>case_id</th>\n",
              "      <th>case_year</th>\n",
              "      <th>casetype_id</th>\n",
              "      <th>casetype_name</th>\n",
              "      <th>category_id</th>\n",
              "      <th>category_name</th>\n",
              "      <th>libcon_id</th>\n",
              "      <th>libcon_name</th>\n",
              "      <th>judge_id</th>\n",
              "    </tr>\n",
              "  </thead>\n",
              "  <tbody>\n",
              "    <tr>\n",
              "      <th>0</th>\n",
              "      <td>Thompson, Myron H.</td>\n",
              "      <td>Democrat</td>\n",
              "      <td>male</td>\n",
              "      <td>African-American/black</td>\n",
              "      <td>28321332</td>\n",
              "      <td>2011</td>\n",
              "      <td>3</td>\n",
              "      <td>criminal court motions</td>\n",
              "      <td>1</td>\n",
              "      <td>Criminal Justice Cases</td>\n",
              "      <td>0</td>\n",
              "      <td>Conservative</td>\n",
              "      <td>0</td>\n",
              "    </tr>\n",
              "    <tr>\n",
              "      <th>1</th>\n",
              "      <td>Shoob, Marvin A.</td>\n",
              "      <td>Democrat</td>\n",
              "      <td>male</td>\n",
              "      <td>white/caucasian</td>\n",
              "      <td>18110669</td>\n",
              "      <td>1993</td>\n",
              "      <td>14</td>\n",
              "      <td>free of religion</td>\n",
              "      <td>2</td>\n",
              "      <td>Civil Liberties/Rights Cases</td>\n",
              "      <td>1</td>\n",
              "      <td>Liberal</td>\n",
              "      <td>1</td>\n",
              "    </tr>\n",
              "    <tr>\n",
              "      <th>2</th>\n",
              "      <td>Bua, Nicholas J.</td>\n",
              "      <td>Democrat</td>\n",
              "      <td>male</td>\n",
              "      <td>white/caucasian</td>\n",
              "      <td>15660871</td>\n",
              "      <td>1983</td>\n",
              "      <td>2</td>\n",
              "      <td>habeas corpus-state</td>\n",
              "      <td>1</td>\n",
              "      <td>Criminal Justice Cases</td>\n",
              "      <td>0</td>\n",
              "      <td>Conservative</td>\n",
              "      <td>2</td>\n",
              "    </tr>\n",
              "    <tr>\n",
              "      <th>3</th>\n",
              "      <td>Kovachevich, Elizabeth</td>\n",
              "      <td>Republican</td>\n",
              "      <td>female</td>\n",
              "      <td>white/caucasian</td>\n",
              "      <td>17770934</td>\n",
              "      <td>1991</td>\n",
              "      <td>2</td>\n",
              "      <td>habeas corpus-state</td>\n",
              "      <td>1</td>\n",
              "      <td>Criminal Justice Cases</td>\n",
              "      <td>0</td>\n",
              "      <td>Conservative</td>\n",
              "      <td>3</td>\n",
              "    </tr>\n",
              "    <tr>\n",
              "      <th>4</th>\n",
              "      <td>Gilliam, Earl B.</td>\n",
              "      <td>Independent/Other/Unknown</td>\n",
              "      <td>male</td>\n",
              "      <td>white/caucasian</td>\n",
              "      <td>26621195</td>\n",
              "      <td>2009</td>\n",
              "      <td>6</td>\n",
              "      <td>alien petitions</td>\n",
              "      <td>2</td>\n",
              "      <td>Civil Liberties/Rights Cases</td>\n",
              "      <td>0</td>\n",
              "      <td>Conservative</td>\n",
              "      <td>4</td>\n",
              "    </tr>\n",
              "    <tr>\n",
              "      <th>...</th>\n",
              "      <td>...</td>\n",
              "      <td>...</td>\n",
              "      <td>...</td>\n",
              "      <td>...</td>\n",
              "      <td>...</td>\n",
              "      <td>...</td>\n",
              "      <td>...</td>\n",
              "      <td>...</td>\n",
              "      <td>...</td>\n",
              "      <td>...</td>\n",
              "      <td>...</td>\n",
              "      <td>...</td>\n",
              "      <td>...</td>\n",
              "    </tr>\n",
              "    <tr>\n",
              "      <th>995</th>\n",
              "      <td>Weiner, Charles R.</td>\n",
              "      <td>Democrat</td>\n",
              "      <td>male</td>\n",
              "      <td>white/caucasian</td>\n",
              "      <td>15360056</td>\n",
              "      <td>1981</td>\n",
              "      <td>17</td>\n",
              "      <td>employee v. employer</td>\n",
              "      <td>3</td>\n",
              "      <td>Labor &amp; Economic Cases</td>\n",
              "      <td>0</td>\n",
              "      <td>Conservative</td>\n",
              "      <td>550</td>\n",
              "    </tr>\n",
              "    <tr>\n",
              "      <th>996</th>\n",
              "      <td>Rovner, Illana D.</td>\n",
              "      <td>Republican</td>\n",
              "      <td>female</td>\n",
              "      <td>white/caucasian</td>\n",
              "      <td>17781450</td>\n",
              "      <td>1991</td>\n",
              "      <td>11</td>\n",
              "      <td>14th amendment</td>\n",
              "      <td>2</td>\n",
              "      <td>Civil Liberties/Rights Cases</td>\n",
              "      <td>0</td>\n",
              "      <td>Conservative</td>\n",
              "      <td>314</td>\n",
              "    </tr>\n",
              "    <tr>\n",
              "      <th>997</th>\n",
              "      <td>Karas, Kenneth M.</td>\n",
              "      <td>Republican</td>\n",
              "      <td>female</td>\n",
              "      <td>white/caucasian</td>\n",
              "      <td>28120514</td>\n",
              "      <td>2011</td>\n",
              "      <td>26</td>\n",
              "      <td>handicapped rights</td>\n",
              "      <td>2</td>\n",
              "      <td>Civil Liberties/Rights Cases</td>\n",
              "      <td>0</td>\n",
              "      <td>Conservative</td>\n",
              "      <td>551</td>\n",
              "    </tr>\n",
              "    <tr>\n",
              "      <th>998</th>\n",
              "      <td>White, George W.</td>\n",
              "      <td>Democrat</td>\n",
              "      <td>male</td>\n",
              "      <td>African-American/black</td>\n",
              "      <td>16930563</td>\n",
              "      <td>1988</td>\n",
              "      <td>10</td>\n",
              "      <td>racial discrimination</td>\n",
              "      <td>2</td>\n",
              "      <td>Civil Liberties/Rights Cases</td>\n",
              "      <td>0</td>\n",
              "      <td>Conservative</td>\n",
              "      <td>552</td>\n",
              "    </tr>\n",
              "    <tr>\n",
              "      <th>999</th>\n",
              "      <td>O'Connor, Earl E.</td>\n",
              "      <td>Republican</td>\n",
              "      <td>male</td>\n",
              "      <td>white/caucasian</td>\n",
              "      <td>17731442</td>\n",
              "      <td>1991</td>\n",
              "      <td>29</td>\n",
              "      <td>right to privacy</td>\n",
              "      <td>2</td>\n",
              "      <td>Civil Liberties/Rights Cases</td>\n",
              "      <td>1</td>\n",
              "      <td>Liberal</td>\n",
              "      <td>324</td>\n",
              "    </tr>\n",
              "  </tbody>\n",
              "</table>\n",
              "<p>1000 rows × 13 columns</p>\n",
              "</div>"
            ],
            "text/plain": [
              "                 judge_name                 party_name  ...   libcon_name judge_id\n",
              "0        Thompson, Myron H.                   Democrat  ...  Conservative        0\n",
              "1          Shoob, Marvin A.                   Democrat  ...       Liberal        1\n",
              "2          Bua, Nicholas J.                   Democrat  ...  Conservative        2\n",
              "3    Kovachevich, Elizabeth                 Republican  ...  Conservative        3\n",
              "4          Gilliam, Earl B.  Independent/Other/Unknown  ...  Conservative        4\n",
              "..                      ...                        ...  ...           ...      ...\n",
              "995      Weiner, Charles R.                   Democrat  ...  Conservative      550\n",
              "996       Rovner, Illana D.                 Republican  ...  Conservative      314\n",
              "997       Karas, Kenneth M.                 Republican  ...  Conservative      551\n",
              "998        White, George W.                   Democrat  ...  Conservative      552\n",
              "999       O'Connor, Earl E.                 Republican  ...       Liberal      324\n",
              "\n",
              "[1000 rows x 13 columns]"
            ]
          },
          "metadata": {
            "tags": []
          },
          "execution_count": 18
        }
      ]
    },
    {
      "cell_type": "code",
      "metadata": {
        "id": "ewrQQhsdPRRx"
      },
      "source": [
        "# select necessary columns to make cases_df\n",
        "cases_df = cases[['case_id','case_year','judge_id','casetype_id','casetype_name','category_name']]"
      ],
      "execution_count": null,
      "outputs": []
    },
    {
      "cell_type": "code",
      "metadata": {
        "id": "u7Yi1pSqQ8E2",
        "outputId": "bee9a2ea-2d89-4b56-a2c1-1d1577caeeca",
        "colab": {
          "base_uri": "https://localhost:8080/"
        }
      },
      "source": [
        "# What's the shape of cases_df?\n",
        "cases_df.shape"
      ],
      "execution_count": null,
      "outputs": [
        {
          "output_type": "execute_result",
          "data": {
            "text/plain": [
              "(1000, 6)"
            ]
          },
          "metadata": {
            "tags": []
          },
          "execution_count": 20
        }
      ]
    },
    {
      "cell_type": "markdown",
      "metadata": {
        "id": "6afDwjG9B-1m"
      },
      "source": [
        "### Make cases table in your database\n",
        "\n",
        "Go bring over your connection function from the last workbook. **This must be in here for me to grade the homework** If I can't access your database you'll get a zero.  It's a good idea to bring our other exploratory functions as well.  \n",
        "\n",
        "Once you do that you'll need to do the following\n",
        "\n",
        "* Connect, make a table called 'cases' with the correct column names and data types.  Be sure to execute and commit the table.  \n",
        "* Make tuples of your data\n",
        "* Write a SQL string that allows you to insert each tuple of data into the correct columns\n",
        "* Execute the string many times to fill out 'cases'\n",
        "* Commit changes and check the table.  \n",
        "\n",
        "I'm not going to leave a full roadmap beyond this.  Feel free to add cells as needed to do the above.  "
      ]
    },
    {
      "cell_type": "code",
      "metadata": {
        "id": "H82m3mfCdhIF"
      },
      "source": [
        "import psycopg2"
      ],
      "execution_count": null,
      "outputs": []
    },
    {
      "cell_type": "code",
      "metadata": {
        "id": "v8Zu6P6YX8VB"
      },
      "source": [
        "def get_conn_cur():\n",
        "  # UPDATE WITH YOUR INFO!\n",
        "  conn = psycopg2.connect(\n",
        "  host=\"database-1.cvwfo3fm2djf.us-east-1.rds.amazonaws.com\",\n",
        "  database=\"hw4_db\",\n",
        "  user=\"postgres\",\n",
        "  password=\"password\",\n",
        "  port='5432')\n",
        "  \n",
        "  cur = conn.cursor()\n",
        "  return(conn, cur)"
      ],
      "execution_count": null,
      "outputs": []
    },
    {
      "cell_type": "code",
      "metadata": {
        "id": "txCl4M1kX83n"
      },
      "source": [
        "def run_query(query_string):\n",
        "\n",
        "  conn, cur = get_conn_cur() # get connection and cursor\n",
        "\n",
        "  cur.execute(query_string) # executing string as before\n",
        "\n",
        "  my_data = cur.fetchall() # fetch query data as before\n",
        "\n",
        "  # here we're extracting the 0th element for each item in cur.description\n",
        "  colnames = [desc[0] for desc in cur.description]\n",
        "\n",
        "  cur.close() # close\n",
        "  conn.close() # close\n",
        "\n",
        "  return(colnames, my_data) # return column names AND data\n",
        "\n",
        "# Column name function for checking out what's in a table\n",
        "def get_column_names(table_name): # arguement of table_name\n",
        "  conn, cur = get_conn_cur() # get connection and cursor\n",
        "\n",
        "  # Now select column names while inserting the table name into the WERE\n",
        "  column_name_query =  \"\"\"SELECT column_name FROM information_schema.columns\n",
        "       WHERE table_name = '%s' \"\"\" %table_name\n",
        "\n",
        "  cur.execute(column_name_query) # exectue\n",
        "  my_data = cur.fetchall() # store\n",
        "\n",
        "  cur.close() # close\n",
        "  conn.close() # close\n",
        "\n",
        "  return(my_data) # return\n",
        "\n",
        "# Check table_names\n",
        "def get_table_names():\n",
        "  conn, cur = get_conn_cur() # get connection and cursor\n",
        "\n",
        "  # query to get table names\n",
        "  table_name_query = \"\"\"SELECT table_name FROM information_schema.tables\n",
        "       WHERE table_schema = 'public' \"\"\"\n",
        "\n",
        "  cur.execute(table_name_query) # execute\n",
        "  my_data = cur.fetchall() # fetch results\n",
        "\n",
        "  cur.close() #close cursor\n",
        "  conn.close() # close connection\n",
        "\n",
        "  return(my_data) # return your fetched results\n",
        "  \n",
        "# make sql_head function\n",
        "def sql_head(table_name):\n",
        "  conn, cur = get_conn_cur() # get connection and cursor\n",
        "\n",
        "  # Now select column names while inserting the table name into the WERE\n",
        "  head_query =  \"\"\"SELECT * FROM %s LIMIT 5; \"\"\" %table_name\n",
        "\n",
        "  cur.execute(head_query) # exectue\n",
        "  colnames = [desc[0] for desc in cur.description] # get column names\n",
        "  my_data = cur.fetchall() # store first five rows\n",
        "\n",
        "  cur.close() # close\n",
        "  conn.close() # close\n",
        "\n",
        "  df = pd.DataFrame(data = my_data, columns = colnames) # make into df\n",
        "\n",
        "  return(df) # return"
      ],
      "execution_count": null,
      "outputs": []
    },
    {
      "cell_type": "code",
      "metadata": {
        "id": "kA483G6bGfrU"
      },
      "source": [
        "tq = \"\"\"CREATE TABLE cases (\n",
        "          case_id INTEGER PRIMARY KEY,\n",
        "          case_year INTEGER NOT NULL , \n",
        "          judge_id INTEGER NOT NULL,\n",
        "          casetype_id INTEGER NOT NULL,\n",
        "          casetype_name VARCHAR(300) NOT NULL,\n",
        "          category_name VARCHAR(300) NOT NULL\n",
        "          );\"\"\""
      ],
      "execution_count": null,
      "outputs": []
    },
    {
      "cell_type": "code",
      "metadata": {
        "id": "TUhSI-KxdZGo"
      },
      "source": [
        "conn, cur = get_conn_cur()"
      ],
      "execution_count": null,
      "outputs": []
    },
    {
      "cell_type": "code",
      "metadata": {
        "id": "BsHTs3ZsdZyv"
      },
      "source": [
        "cur.execute(tq)"
      ],
      "execution_count": null,
      "outputs": []
    },
    {
      "cell_type": "code",
      "metadata": {
        "id": "-RylKZ5mecFv"
      },
      "source": [
        "conn.commit()"
      ],
      "execution_count": null,
      "outputs": []
    },
    {
      "cell_type": "code",
      "metadata": {
        "id": "Duj5_Cl_ecl5",
        "outputId": "ad2630a0-eab9-4414-f891-437a78a45c39",
        "colab": {
          "base_uri": "https://localhost:8080/"
        }
      },
      "source": [
        "get_table_names()"
      ],
      "execution_count": null,
      "outputs": [
        {
          "output_type": "execute_result",
          "data": {
            "text/plain": [
              "[('weekly_stats',), ('cases',)]"
            ]
          },
          "metadata": {
            "tags": []
          },
          "execution_count": 28
        }
      ]
    },
    {
      "cell_type": "code",
      "metadata": {
        "id": "EtAGgRv0e4-Q",
        "outputId": "8c1d2063-5c5d-4098-ee53-654807e84b07",
        "colab": {
          "base_uri": "https://localhost:8080/"
        }
      },
      "source": [
        "get_column_names(table_name='cases')"
      ],
      "execution_count": null,
      "outputs": [
        {
          "output_type": "execute_result",
          "data": {
            "text/plain": [
              "[('case_id',),\n",
              " ('case_year',),\n",
              " ('judge_id',),\n",
              " ('casetype_id',),\n",
              " ('casetype_name',),\n",
              " ('category_name',)]"
            ]
          },
          "metadata": {
            "tags": []
          },
          "execution_count": 29
        }
      ]
    },
    {
      "cell_type": "code",
      "metadata": {
        "id": "pbTNe9fBe5Zp"
      },
      "source": [
        "import numpy as np\n",
        "data_tups = [tuple(data) for data in cases_df.to_numpy()]"
      ],
      "execution_count": null,
      "outputs": []
    },
    {
      "cell_type": "code",
      "metadata": {
        "id": "F47oHyyWhu-t"
      },
      "source": [
        "insert_query = \"\"\" INSERT INTO cases(case_id,case_year,judge_id,casetype_id,casetype_name,category_name) VALUES(%s, %s, %s, %s, %s,%s); \"\"\" "
      ],
      "execution_count": null,
      "outputs": []
    },
    {
      "cell_type": "code",
      "metadata": {
        "id": "7hNFUu-xhvEm"
      },
      "source": [
        "conn, cur = get_conn_cur()\n",
        "cur.executemany(insert_query, data_tups)\n",
        "conn.commit()"
      ],
      "execution_count": null,
      "outputs": []
    },
    {
      "cell_type": "code",
      "metadata": {
        "id": "dZ_eVmrmZMQS",
        "outputId": "dabb44c7-bd55-41b2-84ee-2d50672743ee",
        "colab": {
          "base_uri": "https://localhost:8080/",
          "height": 204
        }
      },
      "source": [
        "# Use sql_head to check cases\n",
        "sql_head(table_name='cases')"
      ],
      "execution_count": null,
      "outputs": [
        {
          "output_type": "execute_result",
          "data": {
            "text/html": [
              "<div>\n",
              "<style scoped>\n",
              "    .dataframe tbody tr th:only-of-type {\n",
              "        vertical-align: middle;\n",
              "    }\n",
              "\n",
              "    .dataframe tbody tr th {\n",
              "        vertical-align: top;\n",
              "    }\n",
              "\n",
              "    .dataframe thead th {\n",
              "        text-align: right;\n",
              "    }\n",
              "</style>\n",
              "<table border=\"1\" class=\"dataframe\">\n",
              "  <thead>\n",
              "    <tr style=\"text-align: right;\">\n",
              "      <th></th>\n",
              "      <th>case_id</th>\n",
              "      <th>case_year</th>\n",
              "      <th>judge_id</th>\n",
              "      <th>casetype_id</th>\n",
              "      <th>casetype_name</th>\n",
              "      <th>category_name</th>\n",
              "    </tr>\n",
              "  </thead>\n",
              "  <tbody>\n",
              "    <tr>\n",
              "      <th>0</th>\n",
              "      <td>28321332</td>\n",
              "      <td>2011</td>\n",
              "      <td>0</td>\n",
              "      <td>3</td>\n",
              "      <td>criminal court motions</td>\n",
              "      <td>Criminal Justice Cases</td>\n",
              "    </tr>\n",
              "    <tr>\n",
              "      <th>1</th>\n",
              "      <td>18110669</td>\n",
              "      <td>1993</td>\n",
              "      <td>1</td>\n",
              "      <td>14</td>\n",
              "      <td>free of religion</td>\n",
              "      <td>Civil Liberties/Rights Cases</td>\n",
              "    </tr>\n",
              "    <tr>\n",
              "      <th>2</th>\n",
              "      <td>15660871</td>\n",
              "      <td>1983</td>\n",
              "      <td>2</td>\n",
              "      <td>2</td>\n",
              "      <td>habeas corpus-state</td>\n",
              "      <td>Criminal Justice Cases</td>\n",
              "    </tr>\n",
              "    <tr>\n",
              "      <th>3</th>\n",
              "      <td>17770934</td>\n",
              "      <td>1991</td>\n",
              "      <td>3</td>\n",
              "      <td>2</td>\n",
              "      <td>habeas corpus-state</td>\n",
              "      <td>Criminal Justice Cases</td>\n",
              "    </tr>\n",
              "    <tr>\n",
              "      <th>4</th>\n",
              "      <td>26621195</td>\n",
              "      <td>2009</td>\n",
              "      <td>4</td>\n",
              "      <td>6</td>\n",
              "      <td>alien petitions</td>\n",
              "      <td>Civil Liberties/Rights Cases</td>\n",
              "    </tr>\n",
              "  </tbody>\n",
              "</table>\n",
              "</div>"
            ],
            "text/plain": [
              "    case_id  case_year  ...           casetype_name                 category_name\n",
              "0  28321332       2011  ...  criminal court motions        Criminal Justice Cases\n",
              "1  18110669       1993  ...        free of religion  Civil Liberties/Rights Cases\n",
              "2  15660871       1983  ...     habeas corpus-state        Criminal Justice Cases\n",
              "3  17770934       1991  ...     habeas corpus-state        Criminal Justice Cases\n",
              "4  26621195       2009  ...         alien petitions  Civil Liberties/Rights Cases\n",
              "\n",
              "[5 rows x 6 columns]"
            ]
          },
          "metadata": {
            "tags": []
          },
          "execution_count": 33
        }
      ]
    },
    {
      "cell_type": "markdown",
      "metadata": {
        "id": "Cb9Q6spxDvrh"
      },
      "source": [
        "## Make judges - 2 points\n",
        "\n",
        "Now make your  judges table from the original `cases` dataframe (not the SQL table you just made).  \n",
        "\n",
        "Judges should have five columns, including the `judge_id` column you made. There should be 553 rows after you drop duplicates (remember that judges may have had more than one case).  \n",
        "\n",
        "After you  make the dataset go and push to a SQL table called 'judges'. "
      ]
    },
    {
      "cell_type": "code",
      "metadata": {
        "id": "2e0OkYXYRNFw"
      },
      "source": [
        "judges_df = cases[['judge_id','judge_name','party_name','gender_name','race_name']].drop_duplicates()"
      ],
      "execution_count": null,
      "outputs": []
    },
    {
      "cell_type": "code",
      "metadata": {
        "id": "XHO6nj7TRM0b",
        "outputId": "a44c42ad-7f07-408c-c405-bf0736ef9db8",
        "colab": {
          "base_uri": "https://localhost:8080/"
        }
      },
      "source": [
        "judges_df.shape"
      ],
      "execution_count": null,
      "outputs": [
        {
          "output_type": "execute_result",
          "data": {
            "text/plain": [
              "(553, 5)"
            ]
          },
          "metadata": {
            "tags": []
          },
          "execution_count": 35
        }
      ]
    },
    {
      "cell_type": "code",
      "metadata": {
        "id": "0DHTtCpXXHSn"
      },
      "source": [
        "new_q = \"\"\"CREATE TABLE judges (\n",
        "          judge_id INTEGER PRIMARY KEY,\n",
        "          judge_name VARCHAR(300) NOT NULL,\n",
        "          party_name VARCHAR(300) NOT NULL,\n",
        "          gender_name VARCHAR(300) NOT NULL,\n",
        "          race_name VARCHAR(300) NOT NULL\n",
        "          );\"\"\""
      ],
      "execution_count": null,
      "outputs": []
    },
    {
      "cell_type": "code",
      "metadata": {
        "id": "Aa15EXZ3sRTq"
      },
      "source": [
        "cur.execute(new_q)"
      ],
      "execution_count": null,
      "outputs": []
    },
    {
      "cell_type": "code",
      "metadata": {
        "id": "-i4gzA1EsyNz"
      },
      "source": [
        "conn.commit()"
      ],
      "execution_count": null,
      "outputs": []
    },
    {
      "cell_type": "code",
      "metadata": {
        "id": "iyK7SrqzsZIU",
        "outputId": "74c73db6-4bef-4d35-ae6b-cf6c3d269043",
        "colab": {
          "base_uri": "https://localhost:8080/"
        }
      },
      "source": [
        "get_table_names()"
      ],
      "execution_count": null,
      "outputs": [
        {
          "output_type": "execute_result",
          "data": {
            "text/plain": [
              "[('weekly_stats',), ('cases',), ('judges',)]"
            ]
          },
          "metadata": {
            "tags": []
          },
          "execution_count": 39
        }
      ]
    },
    {
      "cell_type": "code",
      "metadata": {
        "id": "vtc17XCTsY29",
        "outputId": "5d24d0bf-8846-422e-a018-ad3885c8a398",
        "colab": {
          "base_uri": "https://localhost:8080/"
        }
      },
      "source": [
        "get_column_names(table_name=\"judges\")"
      ],
      "execution_count": null,
      "outputs": [
        {
          "output_type": "execute_result",
          "data": {
            "text/plain": [
              "[('judge_id',),\n",
              " ('judge_name',),\n",
              " ('party_name',),\n",
              " ('gender_name',),\n",
              " ('race_name',)]"
            ]
          },
          "metadata": {
            "tags": []
          },
          "execution_count": 40
        }
      ]
    },
    {
      "cell_type": "code",
      "metadata": {
        "id": "iT4-lZuss4G2"
      },
      "source": [
        "data_tups2 = [tuple(data) for data in judges_df.to_numpy()]"
      ],
      "execution_count": null,
      "outputs": []
    },
    {
      "cell_type": "code",
      "metadata": {
        "id": "ImrgADVrs4PS"
      },
      "source": [
        "insert_judges_query = \"\"\" INSERT INTO judges(judge_id,judge_name,party_name,gender_name,race_name) VALUES(%s, %s, %s, %s, %s); \"\"\" "
      ],
      "execution_count": null,
      "outputs": []
    },
    {
      "cell_type": "code",
      "metadata": {
        "id": "coK_MqmDs40W"
      },
      "source": [
        "conn, cur = get_conn_cur()\n",
        "cur.executemany(insert_judges_query, data_tups2)\n",
        "conn.commit()"
      ],
      "execution_count": null,
      "outputs": []
    },
    {
      "cell_type": "code",
      "metadata": {
        "id": "EMAWC3Zzs4xg",
        "outputId": "a45a97b4-752f-485f-c88f-a03c9d4c5840",
        "colab": {
          "base_uri": "https://localhost:8080/",
          "height": 204
        }
      },
      "source": [
        "sql_head(table_name='judges')"
      ],
      "execution_count": null,
      "outputs": [
        {
          "output_type": "execute_result",
          "data": {
            "text/html": [
              "<div>\n",
              "<style scoped>\n",
              "    .dataframe tbody tr th:only-of-type {\n",
              "        vertical-align: middle;\n",
              "    }\n",
              "\n",
              "    .dataframe tbody tr th {\n",
              "        vertical-align: top;\n",
              "    }\n",
              "\n",
              "    .dataframe thead th {\n",
              "        text-align: right;\n",
              "    }\n",
              "</style>\n",
              "<table border=\"1\" class=\"dataframe\">\n",
              "  <thead>\n",
              "    <tr style=\"text-align: right;\">\n",
              "      <th></th>\n",
              "      <th>judge_id</th>\n",
              "      <th>judge_name</th>\n",
              "      <th>party_name</th>\n",
              "      <th>gender_name</th>\n",
              "      <th>race_name</th>\n",
              "    </tr>\n",
              "  </thead>\n",
              "  <tbody>\n",
              "    <tr>\n",
              "      <th>0</th>\n",
              "      <td>0</td>\n",
              "      <td>Thompson, Myron H.</td>\n",
              "      <td>Democrat</td>\n",
              "      <td>male</td>\n",
              "      <td>African-American/black</td>\n",
              "    </tr>\n",
              "    <tr>\n",
              "      <th>1</th>\n",
              "      <td>1</td>\n",
              "      <td>Shoob, Marvin A.</td>\n",
              "      <td>Democrat</td>\n",
              "      <td>male</td>\n",
              "      <td>white/caucasian</td>\n",
              "    </tr>\n",
              "    <tr>\n",
              "      <th>2</th>\n",
              "      <td>2</td>\n",
              "      <td>Bua, Nicholas J.</td>\n",
              "      <td>Democrat</td>\n",
              "      <td>male</td>\n",
              "      <td>white/caucasian</td>\n",
              "    </tr>\n",
              "    <tr>\n",
              "      <th>3</th>\n",
              "      <td>3</td>\n",
              "      <td>Kovachevich, Elizabeth</td>\n",
              "      <td>Republican</td>\n",
              "      <td>female</td>\n",
              "      <td>white/caucasian</td>\n",
              "    </tr>\n",
              "    <tr>\n",
              "      <th>4</th>\n",
              "      <td>4</td>\n",
              "      <td>Gilliam, Earl B.</td>\n",
              "      <td>Independent/Other/Unknown</td>\n",
              "      <td>male</td>\n",
              "      <td>white/caucasian</td>\n",
              "    </tr>\n",
              "  </tbody>\n",
              "</table>\n",
              "</div>"
            ],
            "text/plain": [
              "   judge_id              judge_name  ... gender_name               race_name\n",
              "0         0      Thompson, Myron H.  ...        male  African-American/black\n",
              "1         1        Shoob, Marvin A.  ...        male         white/caucasian\n",
              "2         2        Bua, Nicholas J.  ...        male         white/caucasian\n",
              "3         3  Kovachevich, Elizabeth  ...      female         white/caucasian\n",
              "4         4        Gilliam, Earl B.  ...        male         white/caucasian\n",
              "\n",
              "[5 rows x 5 columns]"
            ]
          },
          "metadata": {
            "tags": []
          },
          "execution_count": 44
        }
      ]
    },
    {
      "cell_type": "markdown",
      "metadata": {
        "id": "OCipTbdcHQzN"
      },
      "source": [
        "## Make casetype - 2 points\n",
        "\n",
        "Go make the casetype table.  This should have only two columns that allow you to link the casetype name back to the ID in the 'cases' table. There should be 27 rows as well. "
      ]
    },
    {
      "cell_type": "code",
      "metadata": {
        "id": "MMyuFjb3ZU6X"
      },
      "source": [
        "casetype_df = cases[['casetype_id','casetype_name']].drop_duplicates()"
      ],
      "execution_count": null,
      "outputs": []
    },
    {
      "cell_type": "code",
      "metadata": {
        "id": "chln8P0PZQ1U",
        "outputId": "8572db2b-3d44-4181-c0c7-b35787d54635",
        "colab": {
          "base_uri": "https://localhost:8080/"
        }
      },
      "source": [
        "casetype_df.shape"
      ],
      "execution_count": null,
      "outputs": [
        {
          "output_type": "execute_result",
          "data": {
            "text/plain": [
              "(27, 2)"
            ]
          },
          "metadata": {
            "tags": []
          },
          "execution_count": 46
        }
      ]
    },
    {
      "cell_type": "code",
      "metadata": {
        "id": "0YAB8YuVt0O1"
      },
      "source": [
        "casetype_q = \"\"\"CREATE TABLE casetypes (\n",
        "          casetype_id INTEGER PRIMARY KEY,\n",
        "          casetype_name VARCHAR(300) NOT NULL\n",
        "          );\"\"\""
      ],
      "execution_count": null,
      "outputs": []
    },
    {
      "cell_type": "code",
      "metadata": {
        "id": "zKYBnIqEt0vV"
      },
      "source": [
        "cur.execute(casetype_q)"
      ],
      "execution_count": null,
      "outputs": []
    },
    {
      "cell_type": "code",
      "metadata": {
        "id": "spIngHxst1HM"
      },
      "source": [
        "conn.commit()"
      ],
      "execution_count": null,
      "outputs": []
    },
    {
      "cell_type": "code",
      "metadata": {
        "id": "CeScNvuzt1Dh",
        "outputId": "95fccf2e-72ab-438a-de2b-7ac4f82ff561",
        "colab": {
          "base_uri": "https://localhost:8080/"
        }
      },
      "source": [
        "get_table_names()"
      ],
      "execution_count": null,
      "outputs": [
        {
          "output_type": "execute_result",
          "data": {
            "text/plain": [
              "[('weekly_stats',), ('cases',), ('judges',), ('casetypes',)]"
            ]
          },
          "metadata": {
            "tags": []
          },
          "execution_count": 50
        }
      ]
    },
    {
      "cell_type": "code",
      "metadata": {
        "id": "TUb1no5bt1CC",
        "outputId": "82f3c8c4-f76c-4623-e7f8-a8539e2c262a",
        "colab": {
          "base_uri": "https://localhost:8080/"
        }
      },
      "source": [
        "get_column_names(table_name=\"casetypes\")"
      ],
      "execution_count": null,
      "outputs": [
        {
          "output_type": "execute_result",
          "data": {
            "text/plain": [
              "[('casetype_id',), ('casetype_name',)]"
            ]
          },
          "metadata": {
            "tags": []
          },
          "execution_count": 51
        }
      ]
    },
    {
      "cell_type": "code",
      "metadata": {
        "id": "e4MADxQpt0h4"
      },
      "source": [
        "data_tups3 = [tuple(data) for data in casetype_df.to_numpy()]"
      ],
      "execution_count": null,
      "outputs": []
    },
    {
      "cell_type": "code",
      "metadata": {
        "id": "WsR0Vmkjul2Z"
      },
      "source": [
        "insert_casetypes_query = \"\"\" INSERT INTO casetypes(casetype_id,casetype_name) VALUES(%s, %s); \"\"\" "
      ],
      "execution_count": null,
      "outputs": []
    },
    {
      "cell_type": "code",
      "metadata": {
        "id": "9LvB6bXyumHV"
      },
      "source": [
        "conn, cur = get_conn_cur()\n",
        "cur.executemany(insert_casetypes_query, data_tups3)\n",
        "conn.commit()"
      ],
      "execution_count": null,
      "outputs": []
    },
    {
      "cell_type": "code",
      "metadata": {
        "id": "X8sp4tE7urAL",
        "outputId": "791a43b3-3da3-4eeb-92dd-8ec66b1045e2",
        "colab": {
          "base_uri": "https://localhost:8080/",
          "height": 204
        }
      },
      "source": [
        "sql_head(table_name=\"casetypes\")"
      ],
      "execution_count": null,
      "outputs": [
        {
          "output_type": "execute_result",
          "data": {
            "text/html": [
              "<div>\n",
              "<style scoped>\n",
              "    .dataframe tbody tr th:only-of-type {\n",
              "        vertical-align: middle;\n",
              "    }\n",
              "\n",
              "    .dataframe tbody tr th {\n",
              "        vertical-align: top;\n",
              "    }\n",
              "\n",
              "    .dataframe thead th {\n",
              "        text-align: right;\n",
              "    }\n",
              "</style>\n",
              "<table border=\"1\" class=\"dataframe\">\n",
              "  <thead>\n",
              "    <tr style=\"text-align: right;\">\n",
              "      <th></th>\n",
              "      <th>casetype_id</th>\n",
              "      <th>casetype_name</th>\n",
              "    </tr>\n",
              "  </thead>\n",
              "  <tbody>\n",
              "    <tr>\n",
              "      <th>0</th>\n",
              "      <td>3</td>\n",
              "      <td>criminal court motions</td>\n",
              "    </tr>\n",
              "    <tr>\n",
              "      <th>1</th>\n",
              "      <td>14</td>\n",
              "      <td>free of religion</td>\n",
              "    </tr>\n",
              "    <tr>\n",
              "      <th>2</th>\n",
              "      <td>2</td>\n",
              "      <td>habeas corpus-state</td>\n",
              "    </tr>\n",
              "    <tr>\n",
              "      <th>3</th>\n",
              "      <td>6</td>\n",
              "      <td>alien petitions</td>\n",
              "    </tr>\n",
              "    <tr>\n",
              "      <th>4</th>\n",
              "      <td>19</td>\n",
              "      <td>environmental protection</td>\n",
              "    </tr>\n",
              "  </tbody>\n",
              "</table>\n",
              "</div>"
            ],
            "text/plain": [
              "   casetype_id             casetype_name\n",
              "0            3    criminal court motions\n",
              "1           14          free of religion\n",
              "2            2       habeas corpus-state\n",
              "3            6           alien petitions\n",
              "4           19  environmental protection"
            ]
          },
          "metadata": {
            "tags": []
          },
          "execution_count": 55
        }
      ]
    },
    {
      "cell_type": "markdown",
      "metadata": {
        "id": "WaThd4pgJVAa"
      },
      "source": [
        "## A quick test of your tables\n",
        "\n",
        "Below is a query to get the number of unique judges that have ruled on criminal court motion cases.  You should get a value of 119 as your return if your database is set up correctly!"
      ]
    },
    {
      "cell_type": "code",
      "metadata": {
        "id": "UTvY-T16JXoL",
        "outputId": "720da645-7a81-41f6-a5eb-4fa62bd1308f",
        "colab": {
          "base_uri": "https://localhost:8080/"
        }
      },
      "source": [
        "run_query(\"\"\"SELECT COUNT(DISTINCT(judges.judge_id)) FROM cases \n",
        "                JOIN judges ON cases.judge_id = judges.judge_id \n",
        "                WHERE casetype_id = (SELECT casetype_id FROM casetypes\n",
        "                                        WHERE casetype_name = 'criminal court motions'); \"\"\")\n",
        "              "
      ],
      "execution_count": null,
      "outputs": [
        {
          "output_type": "execute_result",
          "data": {
            "text/plain": [
              "(['count'], [(119,)])"
            ]
          },
          "metadata": {
            "tags": []
          },
          "execution_count": 56
        }
      ]
    },
    {
      "cell_type": "markdown",
      "metadata": {
        "id": "wyx-UfY3KY7z"
      },
      "source": [
        "## Make rollup table - 3 points\n",
        " \n",
        "Now let's make that rollup table!  The goal here is to make a summary table easily accessed.  We're going to roll the whole thing up by the judges party and the category, but you could imagine doing this for each judge to track how they make decisions over time which would then be useful for an analytics database.  The one we're making could also be used as a dimension table where we needed overall party averages.  \n",
        " \n",
        "We want to get a percentage of liberal decisions by each grouping level (party_name, category_name). To do this we need first, the number of cases seen at each level, and second, the number of liberal decisions made at each level.  `cases` contains the columns `libcon_id` which is a 0 if the decision was conservative in its ruling, and a 1 if it was liberal in its ruling.  Thus, you can get a percentage of liberal decisions if you divide the sum of that column by the total observations.  Your `agg()` can both get the sum and count.  \n",
        " \n",
        "After you groupby you'll need to reset the index, rename the columns, then make the percentage.  \n",
        " \n",
        "Once you do that you can push to a SQL table called 'rollup'\n",
        " \n",
        "Let's get started"
      ]
    },
    {
      "cell_type": "code",
      "metadata": {
        "id": "zDWZ_LJyKdNw"
      },
      "source": [
        "# Make a groupby called cases_rollup.  This should group by party_name and categrory name.  It should aggregate the count and sum of libcon_id\n",
        "cases_rollup = cases.groupby([cases['party_name'], cases['category_name']]).agg({ 'libcon_id':['count','sum']})"
      ],
      "execution_count": null,
      "outputs": []
    },
    {
      "cell_type": "code",
      "metadata": {
        "id": "ad7xuTUPHHR0",
        "outputId": "997961ee-07b5-4073-ff87-a15c1dd6d3a8",
        "colab": {
          "base_uri": "https://localhost:8080/",
          "height": 390
        }
      },
      "source": [
        "cases_rollup"
      ],
      "execution_count": null,
      "outputs": [
        {
          "output_type": "execute_result",
          "data": {
            "text/html": [
              "<div>\n",
              "<style scoped>\n",
              "    .dataframe tbody tr th:only-of-type {\n",
              "        vertical-align: middle;\n",
              "    }\n",
              "\n",
              "    .dataframe tbody tr th {\n",
              "        vertical-align: top;\n",
              "    }\n",
              "\n",
              "    .dataframe thead tr th {\n",
              "        text-align: left;\n",
              "    }\n",
              "\n",
              "    .dataframe thead tr:last-of-type th {\n",
              "        text-align: right;\n",
              "    }\n",
              "</style>\n",
              "<table border=\"1\" class=\"dataframe\">\n",
              "  <thead>\n",
              "    <tr>\n",
              "      <th></th>\n",
              "      <th></th>\n",
              "      <th colspan=\"2\" halign=\"left\">libcon_id</th>\n",
              "    </tr>\n",
              "    <tr>\n",
              "      <th></th>\n",
              "      <th></th>\n",
              "      <th>count</th>\n",
              "      <th>sum</th>\n",
              "    </tr>\n",
              "    <tr>\n",
              "      <th>party_name</th>\n",
              "      <th>category_name</th>\n",
              "      <th></th>\n",
              "      <th></th>\n",
              "    </tr>\n",
              "  </thead>\n",
              "  <tbody>\n",
              "    <tr>\n",
              "      <th rowspan=\"3\" valign=\"top\">Democrat</th>\n",
              "      <th>Civil Liberties/Rights Cases</th>\n",
              "      <td>218</td>\n",
              "      <td>112</td>\n",
              "    </tr>\n",
              "    <tr>\n",
              "      <th>Criminal Justice Cases</th>\n",
              "      <td>107</td>\n",
              "      <td>36</td>\n",
              "    </tr>\n",
              "    <tr>\n",
              "      <th>Labor &amp; Economic Cases</th>\n",
              "      <td>126</td>\n",
              "      <td>69</td>\n",
              "    </tr>\n",
              "    <tr>\n",
              "      <th rowspan=\"3\" valign=\"top\">Independent/Other/Unknown</th>\n",
              "      <th>Civil Liberties/Rights Cases</th>\n",
              "      <td>12</td>\n",
              "      <td>5</td>\n",
              "    </tr>\n",
              "    <tr>\n",
              "      <th>Criminal Justice Cases</th>\n",
              "      <td>8</td>\n",
              "      <td>5</td>\n",
              "    </tr>\n",
              "    <tr>\n",
              "      <th>Labor &amp; Economic Cases</th>\n",
              "      <td>13</td>\n",
              "      <td>6</td>\n",
              "    </tr>\n",
              "    <tr>\n",
              "      <th rowspan=\"3\" valign=\"top\">Republican</th>\n",
              "      <th>Civil Liberties/Rights Cases</th>\n",
              "      <td>237</td>\n",
              "      <td>73</td>\n",
              "    </tr>\n",
              "    <tr>\n",
              "      <th>Criminal Justice Cases</th>\n",
              "      <td>125</td>\n",
              "      <td>34</td>\n",
              "    </tr>\n",
              "    <tr>\n",
              "      <th>Labor &amp; Economic Cases</th>\n",
              "      <td>154</td>\n",
              "      <td>67</td>\n",
              "    </tr>\n",
              "  </tbody>\n",
              "</table>\n",
              "</div>"
            ],
            "text/plain": [
              "                                                       libcon_id     \n",
              "                                                           count  sum\n",
              "party_name                category_name                              \n",
              "Democrat                  Civil Liberties/Rights Cases       218  112\n",
              "                          Criminal Justice Cases             107   36\n",
              "                          Labor & Economic Cases             126   69\n",
              "Independent/Other/Unknown Civil Liberties/Rights Cases        12    5\n",
              "                          Criminal Justice Cases               8    5\n",
              "                          Labor & Economic Cases              13    6\n",
              "Republican                Civil Liberties/Rights Cases       237   73\n",
              "                          Criminal Justice Cases             125   34\n",
              "                          Labor & Economic Cases             154   67"
            ]
          },
          "metadata": {
            "tags": []
          },
          "execution_count": 58
        }
      ]
    },
    {
      "cell_type": "code",
      "metadata": {
        "id": "nQ2UOxTsKfOE"
      },
      "source": [
        "# reset your index\n",
        "cases_rollup.columns = cases_rollup.columns.map('_'.join)\n",
        "cases_rollup = cases_rollup.reset_index()"
      ],
      "execution_count": null,
      "outputs": []
    },
    {
      "cell_type": "code",
      "metadata": {
        "id": "WFzRSGCvIi5R",
        "outputId": "a058e740-4706-4d64-d666-839c26c7d58a",
        "colab": {
          "base_uri": "https://localhost:8080/",
          "height": 328
        }
      },
      "source": [
        "cases_rollup"
      ],
      "execution_count": null,
      "outputs": [
        {
          "output_type": "execute_result",
          "data": {
            "text/html": [
              "<div>\n",
              "<style scoped>\n",
              "    .dataframe tbody tr th:only-of-type {\n",
              "        vertical-align: middle;\n",
              "    }\n",
              "\n",
              "    .dataframe tbody tr th {\n",
              "        vertical-align: top;\n",
              "    }\n",
              "\n",
              "    .dataframe thead th {\n",
              "        text-align: right;\n",
              "    }\n",
              "</style>\n",
              "<table border=\"1\" class=\"dataframe\">\n",
              "  <thead>\n",
              "    <tr style=\"text-align: right;\">\n",
              "      <th></th>\n",
              "      <th>party_name</th>\n",
              "      <th>category_name</th>\n",
              "      <th>libcon_id_count</th>\n",
              "      <th>libcon_id_sum</th>\n",
              "    </tr>\n",
              "  </thead>\n",
              "  <tbody>\n",
              "    <tr>\n",
              "      <th>0</th>\n",
              "      <td>Democrat</td>\n",
              "      <td>Civil Liberties/Rights Cases</td>\n",
              "      <td>218</td>\n",
              "      <td>112</td>\n",
              "    </tr>\n",
              "    <tr>\n",
              "      <th>1</th>\n",
              "      <td>Democrat</td>\n",
              "      <td>Criminal Justice Cases</td>\n",
              "      <td>107</td>\n",
              "      <td>36</td>\n",
              "    </tr>\n",
              "    <tr>\n",
              "      <th>2</th>\n",
              "      <td>Democrat</td>\n",
              "      <td>Labor &amp; Economic Cases</td>\n",
              "      <td>126</td>\n",
              "      <td>69</td>\n",
              "    </tr>\n",
              "    <tr>\n",
              "      <th>3</th>\n",
              "      <td>Independent/Other/Unknown</td>\n",
              "      <td>Civil Liberties/Rights Cases</td>\n",
              "      <td>12</td>\n",
              "      <td>5</td>\n",
              "    </tr>\n",
              "    <tr>\n",
              "      <th>4</th>\n",
              "      <td>Independent/Other/Unknown</td>\n",
              "      <td>Criminal Justice Cases</td>\n",
              "      <td>8</td>\n",
              "      <td>5</td>\n",
              "    </tr>\n",
              "    <tr>\n",
              "      <th>5</th>\n",
              "      <td>Independent/Other/Unknown</td>\n",
              "      <td>Labor &amp; Economic Cases</td>\n",
              "      <td>13</td>\n",
              "      <td>6</td>\n",
              "    </tr>\n",
              "    <tr>\n",
              "      <th>6</th>\n",
              "      <td>Republican</td>\n",
              "      <td>Civil Liberties/Rights Cases</td>\n",
              "      <td>237</td>\n",
              "      <td>73</td>\n",
              "    </tr>\n",
              "    <tr>\n",
              "      <th>7</th>\n",
              "      <td>Republican</td>\n",
              "      <td>Criminal Justice Cases</td>\n",
              "      <td>125</td>\n",
              "      <td>34</td>\n",
              "    </tr>\n",
              "    <tr>\n",
              "      <th>8</th>\n",
              "      <td>Republican</td>\n",
              "      <td>Labor &amp; Economic Cases</td>\n",
              "      <td>154</td>\n",
              "      <td>67</td>\n",
              "    </tr>\n",
              "  </tbody>\n",
              "</table>\n",
              "</div>"
            ],
            "text/plain": [
              "                  party_name  ... libcon_id_sum\n",
              "0                   Democrat  ...           112\n",
              "1                   Democrat  ...            36\n",
              "2                   Democrat  ...            69\n",
              "3  Independent/Other/Unknown  ...             5\n",
              "4  Independent/Other/Unknown  ...             5\n",
              "5  Independent/Other/Unknown  ...             6\n",
              "6                 Republican  ...            73\n",
              "7                 Republican  ...            34\n",
              "8                 Republican  ...            67\n",
              "\n",
              "[9 rows x 4 columns]"
            ]
          },
          "metadata": {
            "tags": []
          },
          "execution_count": 60
        }
      ]
    },
    {
      "cell_type": "code",
      "metadata": {
        "id": "plS7fzUiLCyi",
        "outputId": "c7b7fda5-2cf7-4ab4-ad84-850350db55d4",
        "colab": {
          "base_uri": "https://localhost:8080/",
          "height": 328
        }
      },
      "source": [
        "# rename your columns now.  Keep the first to the same but call the last two 'total_cases' and 'num_lib_decisions'\n",
        "cases_rollup.columns = ['party_name','category_name','total_cases','num_lib_decisions']\n",
        "cases_rollup"
      ],
      "execution_count": null,
      "outputs": [
        {
          "output_type": "execute_result",
          "data": {
            "text/html": [
              "<div>\n",
              "<style scoped>\n",
              "    .dataframe tbody tr th:only-of-type {\n",
              "        vertical-align: middle;\n",
              "    }\n",
              "\n",
              "    .dataframe tbody tr th {\n",
              "        vertical-align: top;\n",
              "    }\n",
              "\n",
              "    .dataframe thead th {\n",
              "        text-align: right;\n",
              "    }\n",
              "</style>\n",
              "<table border=\"1\" class=\"dataframe\">\n",
              "  <thead>\n",
              "    <tr style=\"text-align: right;\">\n",
              "      <th></th>\n",
              "      <th>party_name</th>\n",
              "      <th>category_name</th>\n",
              "      <th>total_cases</th>\n",
              "      <th>num_lib_decisions</th>\n",
              "    </tr>\n",
              "  </thead>\n",
              "  <tbody>\n",
              "    <tr>\n",
              "      <th>0</th>\n",
              "      <td>Democrat</td>\n",
              "      <td>Civil Liberties/Rights Cases</td>\n",
              "      <td>218</td>\n",
              "      <td>112</td>\n",
              "    </tr>\n",
              "    <tr>\n",
              "      <th>1</th>\n",
              "      <td>Democrat</td>\n",
              "      <td>Criminal Justice Cases</td>\n",
              "      <td>107</td>\n",
              "      <td>36</td>\n",
              "    </tr>\n",
              "    <tr>\n",
              "      <th>2</th>\n",
              "      <td>Democrat</td>\n",
              "      <td>Labor &amp; Economic Cases</td>\n",
              "      <td>126</td>\n",
              "      <td>69</td>\n",
              "    </tr>\n",
              "    <tr>\n",
              "      <th>3</th>\n",
              "      <td>Independent/Other/Unknown</td>\n",
              "      <td>Civil Liberties/Rights Cases</td>\n",
              "      <td>12</td>\n",
              "      <td>5</td>\n",
              "    </tr>\n",
              "    <tr>\n",
              "      <th>4</th>\n",
              "      <td>Independent/Other/Unknown</td>\n",
              "      <td>Criminal Justice Cases</td>\n",
              "      <td>8</td>\n",
              "      <td>5</td>\n",
              "    </tr>\n",
              "    <tr>\n",
              "      <th>5</th>\n",
              "      <td>Independent/Other/Unknown</td>\n",
              "      <td>Labor &amp; Economic Cases</td>\n",
              "      <td>13</td>\n",
              "      <td>6</td>\n",
              "    </tr>\n",
              "    <tr>\n",
              "      <th>6</th>\n",
              "      <td>Republican</td>\n",
              "      <td>Civil Liberties/Rights Cases</td>\n",
              "      <td>237</td>\n",
              "      <td>73</td>\n",
              "    </tr>\n",
              "    <tr>\n",
              "      <th>7</th>\n",
              "      <td>Republican</td>\n",
              "      <td>Criminal Justice Cases</td>\n",
              "      <td>125</td>\n",
              "      <td>34</td>\n",
              "    </tr>\n",
              "    <tr>\n",
              "      <th>8</th>\n",
              "      <td>Republican</td>\n",
              "      <td>Labor &amp; Economic Cases</td>\n",
              "      <td>154</td>\n",
              "      <td>67</td>\n",
              "    </tr>\n",
              "  </tbody>\n",
              "</table>\n",
              "</div>"
            ],
            "text/plain": [
              "                  party_name  ... num_lib_decisions\n",
              "0                   Democrat  ...               112\n",
              "1                   Democrat  ...                36\n",
              "2                   Democrat  ...                69\n",
              "3  Independent/Other/Unknown  ...                 5\n",
              "4  Independent/Other/Unknown  ...                 5\n",
              "5  Independent/Other/Unknown  ...                 6\n",
              "6                 Republican  ...                73\n",
              "7                 Republican  ...                34\n",
              "8                 Republican  ...                67\n",
              "\n",
              "[9 rows x 4 columns]"
            ]
          },
          "metadata": {
            "tags": []
          },
          "execution_count": 61
        }
      ]
    },
    {
      "cell_type": "markdown",
      "metadata": {
        "id": "b7pn9Bj5NSuM"
      },
      "source": [
        "Now make a new column called 'percent_liberal'\n",
        "\n",
        "This should calucalte the percentage of decisions that were liberal in nature.  Multiple it by 100 so that it's a full percent.  Also use the `round()` function on the whole thing to keep it in whole percentages."
      ]
    },
    {
      "cell_type": "code",
      "metadata": {
        "id": "lRbgcHXhNKhv",
        "outputId": "948b84c2-5b20-4cf3-971b-186cfdb5aff3",
        "colab": {
          "base_uri": "https://localhost:8080/",
          "height": 328
        }
      },
      "source": [
        "# make your metric called 'percent_liberal' \n",
        "cases_rollup['percent_liberal'] = round((cases_rollup['num_lib_decisions'] / cases_rollup['total_cases']) * 100)\n",
        "cases_rollup"
      ],
      "execution_count": null,
      "outputs": [
        {
          "output_type": "execute_result",
          "data": {
            "text/html": [
              "<div>\n",
              "<style scoped>\n",
              "    .dataframe tbody tr th:only-of-type {\n",
              "        vertical-align: middle;\n",
              "    }\n",
              "\n",
              "    .dataframe tbody tr th {\n",
              "        vertical-align: top;\n",
              "    }\n",
              "\n",
              "    .dataframe thead th {\n",
              "        text-align: right;\n",
              "    }\n",
              "</style>\n",
              "<table border=\"1\" class=\"dataframe\">\n",
              "  <thead>\n",
              "    <tr style=\"text-align: right;\">\n",
              "      <th></th>\n",
              "      <th>party_name</th>\n",
              "      <th>category_name</th>\n",
              "      <th>total_cases</th>\n",
              "      <th>num_lib_decisions</th>\n",
              "      <th>percent_liberal</th>\n",
              "    </tr>\n",
              "  </thead>\n",
              "  <tbody>\n",
              "    <tr>\n",
              "      <th>0</th>\n",
              "      <td>Democrat</td>\n",
              "      <td>Civil Liberties/Rights Cases</td>\n",
              "      <td>218</td>\n",
              "      <td>112</td>\n",
              "      <td>51.0</td>\n",
              "    </tr>\n",
              "    <tr>\n",
              "      <th>1</th>\n",
              "      <td>Democrat</td>\n",
              "      <td>Criminal Justice Cases</td>\n",
              "      <td>107</td>\n",
              "      <td>36</td>\n",
              "      <td>34.0</td>\n",
              "    </tr>\n",
              "    <tr>\n",
              "      <th>2</th>\n",
              "      <td>Democrat</td>\n",
              "      <td>Labor &amp; Economic Cases</td>\n",
              "      <td>126</td>\n",
              "      <td>69</td>\n",
              "      <td>55.0</td>\n",
              "    </tr>\n",
              "    <tr>\n",
              "      <th>3</th>\n",
              "      <td>Independent/Other/Unknown</td>\n",
              "      <td>Civil Liberties/Rights Cases</td>\n",
              "      <td>12</td>\n",
              "      <td>5</td>\n",
              "      <td>42.0</td>\n",
              "    </tr>\n",
              "    <tr>\n",
              "      <th>4</th>\n",
              "      <td>Independent/Other/Unknown</td>\n",
              "      <td>Criminal Justice Cases</td>\n",
              "      <td>8</td>\n",
              "      <td>5</td>\n",
              "      <td>62.0</td>\n",
              "    </tr>\n",
              "    <tr>\n",
              "      <th>5</th>\n",
              "      <td>Independent/Other/Unknown</td>\n",
              "      <td>Labor &amp; Economic Cases</td>\n",
              "      <td>13</td>\n",
              "      <td>6</td>\n",
              "      <td>46.0</td>\n",
              "    </tr>\n",
              "    <tr>\n",
              "      <th>6</th>\n",
              "      <td>Republican</td>\n",
              "      <td>Civil Liberties/Rights Cases</td>\n",
              "      <td>237</td>\n",
              "      <td>73</td>\n",
              "      <td>31.0</td>\n",
              "    </tr>\n",
              "    <tr>\n",
              "      <th>7</th>\n",
              "      <td>Republican</td>\n",
              "      <td>Criminal Justice Cases</td>\n",
              "      <td>125</td>\n",
              "      <td>34</td>\n",
              "      <td>27.0</td>\n",
              "    </tr>\n",
              "    <tr>\n",
              "      <th>8</th>\n",
              "      <td>Republican</td>\n",
              "      <td>Labor &amp; Economic Cases</td>\n",
              "      <td>154</td>\n",
              "      <td>67</td>\n",
              "      <td>44.0</td>\n",
              "    </tr>\n",
              "  </tbody>\n",
              "</table>\n",
              "</div>"
            ],
            "text/plain": [
              "                  party_name  ... percent_liberal\n",
              "0                   Democrat  ...            51.0\n",
              "1                   Democrat  ...            34.0\n",
              "2                   Democrat  ...            55.0\n",
              "3  Independent/Other/Unknown  ...            42.0\n",
              "4  Independent/Other/Unknown  ...            62.0\n",
              "5  Independent/Other/Unknown  ...            46.0\n",
              "6                 Republican  ...            31.0\n",
              "7                 Republican  ...            27.0\n",
              "8                 Republican  ...            44.0\n",
              "\n",
              "[9 rows x 5 columns]"
            ]
          },
          "metadata": {
            "tags": []
          },
          "execution_count": 62
        }
      ]
    },
    {
      "cell_type": "markdown",
      "metadata": {
        "id": "AoBcuXvJN_pl"
      },
      "source": [
        "Now go and push the whole thing to a table called 'rollup'\n",
        "\n",
        "There should be five columns and nine rows. "
      ]
    },
    {
      "cell_type": "code",
      "metadata": {
        "id": "n9U0NMyXKpQr"
      },
      "source": [
        "rollup_q = \"\"\"CREATE TABLE  rollup(\n",
        "          party_name VARCHAR(300) NOT NULL,\n",
        "          category_name VARCHAR(300) NOT NULL,\n",
        "          total_cases INTEGER NOT NULL,\n",
        "          num_lib_decisions INTEGER NOT NULL,\n",
        "          percent_liberal NUMERIC PRIMARY KEY\n",
        "          );\"\"\""
      ],
      "execution_count": null,
      "outputs": []
    },
    {
      "cell_type": "code",
      "metadata": {
        "id": "DOh0GIKNKpk8"
      },
      "source": [
        "cur.execute(rollup_q)"
      ],
      "execution_count": null,
      "outputs": []
    },
    {
      "cell_type": "code",
      "metadata": {
        "id": "0YCzpSu7Kqsv"
      },
      "source": [
        "conn.commit()"
      ],
      "execution_count": null,
      "outputs": []
    },
    {
      "cell_type": "code",
      "metadata": {
        "id": "JQbMFqv7Kp3p",
        "outputId": "5bef9560-5852-42ab-a3bf-bb2a56ff8a03",
        "colab": {
          "base_uri": "https://localhost:8080/"
        }
      },
      "source": [
        "get_table_names()"
      ],
      "execution_count": null,
      "outputs": [
        {
          "output_type": "execute_result",
          "data": {
            "text/plain": [
              "[('weekly_stats',), ('cases',), ('judges',), ('casetypes',), ('rollup',)]"
            ]
          },
          "metadata": {
            "tags": []
          },
          "execution_count": 66
        }
      ]
    },
    {
      "cell_type": "code",
      "metadata": {
        "id": "_DdNpxdOKpY1",
        "outputId": "c311dcb4-11c7-4e0a-f145-3967f6d9cf58",
        "colab": {
          "base_uri": "https://localhost:8080/"
        }
      },
      "source": [
        "get_column_names(table_name='rollup')"
      ],
      "execution_count": null,
      "outputs": [
        {
          "output_type": "execute_result",
          "data": {
            "text/plain": [
              "[('party_name',),\n",
              " ('category_name',),\n",
              " ('total_cases',),\n",
              " ('num_lib_decisions',),\n",
              " ('percent_liberal',)]"
            ]
          },
          "metadata": {
            "tags": []
          },
          "execution_count": 67
        }
      ]
    },
    {
      "cell_type": "code",
      "metadata": {
        "id": "y0qj29bPKofX"
      },
      "source": [
        "data_tups4 = [tuple(data) for data in cases_rollup.to_numpy()]"
      ],
      "execution_count": null,
      "outputs": []
    },
    {
      "cell_type": "code",
      "metadata": {
        "id": "K4B6xdGWPrMi"
      },
      "source": [
        "insert_cases_rollup_query = \"\"\" INSERT INTO rollup(party_name,category_name,total_cases,num_lib_decisions,percent_liberal) VALUES(%s, %s,%s,%s,%s); \"\"\" "
      ],
      "execution_count": null,
      "outputs": []
    },
    {
      "cell_type": "code",
      "metadata": {
        "id": "hmFJ1DOYPrwe"
      },
      "source": [
        "conn, cur = get_conn_cur()\n",
        "cur.executemany(insert_cases_rollup_query, data_tups4)\n",
        "conn.commit()"
      ],
      "execution_count": null,
      "outputs": []
    },
    {
      "cell_type": "code",
      "metadata": {
        "id": "X7qTkp1SO1mb",
        "outputId": "0493ce4d-db45-44d6-d008-3d6257930a64",
        "colab": {
          "base_uri": "https://localhost:8080/",
          "height": 204
        }
      },
      "source": [
        "# Check\n",
        "sql_head('rollup')"
      ],
      "execution_count": null,
      "outputs": [
        {
          "output_type": "execute_result",
          "data": {
            "text/html": [
              "<div>\n",
              "<style scoped>\n",
              "    .dataframe tbody tr th:only-of-type {\n",
              "        vertical-align: middle;\n",
              "    }\n",
              "\n",
              "    .dataframe tbody tr th {\n",
              "        vertical-align: top;\n",
              "    }\n",
              "\n",
              "    .dataframe thead th {\n",
              "        text-align: right;\n",
              "    }\n",
              "</style>\n",
              "<table border=\"1\" class=\"dataframe\">\n",
              "  <thead>\n",
              "    <tr style=\"text-align: right;\">\n",
              "      <th></th>\n",
              "      <th>party_name</th>\n",
              "      <th>category_name</th>\n",
              "      <th>total_cases</th>\n",
              "      <th>num_lib_decisions</th>\n",
              "      <th>percent_liberal</th>\n",
              "    </tr>\n",
              "  </thead>\n",
              "  <tbody>\n",
              "    <tr>\n",
              "      <th>0</th>\n",
              "      <td>Democrat</td>\n",
              "      <td>Civil Liberties/Rights Cases</td>\n",
              "      <td>218</td>\n",
              "      <td>112</td>\n",
              "      <td>51.0</td>\n",
              "    </tr>\n",
              "    <tr>\n",
              "      <th>1</th>\n",
              "      <td>Democrat</td>\n",
              "      <td>Criminal Justice Cases</td>\n",
              "      <td>107</td>\n",
              "      <td>36</td>\n",
              "      <td>34.0</td>\n",
              "    </tr>\n",
              "    <tr>\n",
              "      <th>2</th>\n",
              "      <td>Democrat</td>\n",
              "      <td>Labor &amp; Economic Cases</td>\n",
              "      <td>126</td>\n",
              "      <td>69</td>\n",
              "      <td>55.0</td>\n",
              "    </tr>\n",
              "    <tr>\n",
              "      <th>3</th>\n",
              "      <td>Independent/Other/Unknown</td>\n",
              "      <td>Civil Liberties/Rights Cases</td>\n",
              "      <td>12</td>\n",
              "      <td>5</td>\n",
              "      <td>42.0</td>\n",
              "    </tr>\n",
              "    <tr>\n",
              "      <th>4</th>\n",
              "      <td>Independent/Other/Unknown</td>\n",
              "      <td>Criminal Justice Cases</td>\n",
              "      <td>8</td>\n",
              "      <td>5</td>\n",
              "      <td>62.0</td>\n",
              "    </tr>\n",
              "  </tbody>\n",
              "</table>\n",
              "</div>"
            ],
            "text/plain": [
              "                  party_name  ... percent_liberal\n",
              "0                   Democrat  ...            51.0\n",
              "1                   Democrat  ...            34.0\n",
              "2                   Democrat  ...            55.0\n",
              "3  Independent/Other/Unknown  ...            42.0\n",
              "4  Independent/Other/Unknown  ...            62.0\n",
              "\n",
              "[5 rows x 5 columns]"
            ]
          },
          "metadata": {
            "tags": []
          },
          "execution_count": 71
        }
      ]
    },
    {
      "cell_type": "code",
      "metadata": {
        "id": "dxA3bvs1WeLp"
      },
      "source": [
        ""
      ],
      "execution_count": null,
      "outputs": []
    }
  ]
}